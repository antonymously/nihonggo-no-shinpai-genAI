{
 "cells": [
  {
   "cell_type": "markdown",
   "id": "18f497b0-42ed-4da3-b32b-30ece02f40ed",
   "metadata": {},
   "source": [
    "Test the practice buddy and critic implemented using langchain."
   ]
  },
  {
   "cell_type": "code",
   "execution_count": 1,
   "id": "6b497050-4810-418c-bc8c-7953edd0a4c8",
   "metadata": {},
   "outputs": [],
   "source": [
    "import os\n",
    "os.chdir(\"D:\\日本語の心配genAI\")\n",
    "\n",
    "from shinpai_genai.practice_buddy import get_practice_chain\n",
    "from shinpai_genai.critic import get_critic_chain, get_conversation_string"
   ]
  },
  {
   "cell_type": "code",
   "execution_count": 2,
   "id": "39bda1a3-e169-471c-be25-aabed1f5a45d",
   "metadata": {},
   "outputs": [],
   "source": [
    "practice_chain = get_practice_chain()"
   ]
  },
  {
   "cell_type": "code",
   "execution_count": 3,
   "id": "aab079a9-0b7d-4e67-8d11-b290b67b86d7",
   "metadata": {},
   "outputs": [],
   "source": [
    "critic_chain = get_critic_chain()"
   ]
  },
  {
   "cell_type": "code",
   "execution_count": 4,
   "id": "a7a3d1df-248c-400a-81ad-3a96ac78ca5e",
   "metadata": {},
   "outputs": [
    {
     "name": "stdout",
     "output_type": "stream",
     "text": [
      "{'input': 'こんにちは！今から日本語の練習します。', 'history': 'System: You are a practice buddy to a student learning Japanese.\\nConverse with the student.\\nThe student is a native English speaker.\\nIf the student responds in another language, encourage him to chat in Japanese.\\nYou should only respond in Japanese.\\nUse grammar and vocabulary appropriate for JLPT N4 level.\\nUse both formal and casual Japanese so the student can learn both.\\nIf necessary, ask questions to keep the conversation going.', 'response': 'こんにちは！それは素晴らしいですね！日本語の練習にはどのようなことをしたいですか？文法や単語の練習、会話の練習、それとも他の何かですか？'}\n"
     ]
    }
   ],
   "source": [
    "# the response looks the same as the from-scratch implementation\n",
    "res = practice_chain(\"こんにちは！今から日本語の練習します。\")\n",
    "print(res)"
   ]
  },
  {
   "cell_type": "code",
   "execution_count": 5,
   "id": "6ab5807d-716c-4b8c-9c50-9f29600367dd",
   "metadata": {},
   "outputs": [
    {
     "name": "stdout",
     "output_type": "stream",
     "text": [
      "{'input': '今日は土曜日だよ。たくさんねました。11時に起きました。', 'history': 'System: You are a practice buddy to a student learning Japanese.\\nConverse with the student.\\nThe student is a native English speaker.\\nIf the student responds in another language, encourage him to chat in Japanese.\\nYou should only respond in Japanese.\\nUse grammar and vocabulary appropriate for JLPT N4 level.\\nUse both formal and casual Japanese so the student can learn both.\\nIf necessary, ask questions to keep the conversation going.\\nStudent: こんにちは！今から日本語の練習します。\\nPractice Buddy: こんにちは！それは素晴らしいですね！日本語の練習にはどのようなことをしたいですか？文法や単語の練習、会話の練習、それとも他の何かですか？', 'response': 'それはいいですね！土曜日はゆっくり寝ることができる日ですね。11時に起きたんですね。それは少し遅いですが、たくさん寝ることができたのでしょうか？今日は何をする予定ですか？'}\n"
     ]
    }
   ],
   "source": [
    "# looks like this succeeds in keeping the chat history\n",
    "res = practice_chain(\"今日は土曜日だよ。たくさんねました。11時に起きました。\")\n",
    "print(res)"
   ]
  },
  {
   "cell_type": "code",
   "execution_count": 6,
   "id": "83688a66-84f0-47df-ab7a-74aa41868d7c",
   "metadata": {},
   "outputs": [
    {
     "name": "stdout",
     "output_type": "stream",
     "text": [
      "STUDENT: こんにちは！今から日本語の練習します。\n",
      "PRACTICE BUDDY: こんにちは！それは素晴らしいですね！日本語の練習にはどのようなことをしたいですか？文法や単語の練習、会話の練習、それとも他の何かですか？\n",
      "STUDENT: 今日は土曜日だよ。たくさんねました。11時に起きました。\n",
      "\n"
     ]
    }
   ],
   "source": [
    "conversation_str = get_conversation_string(practice_chain)\n",
    "print(conversation_str)"
   ]
  },
  {
   "cell_type": "code",
   "execution_count": 7,
   "id": "5f5df2b1-0723-455c-ab40-53c1d3956e78",
   "metadata": {},
   "outputs": [
    {
     "name": "stdout",
     "output_type": "stream",
     "text": [
      "Your sentence structure and vocabulary are generally correct, but there are a few areas that could be improved:\n",
      "\n",
      "1. Instead of saying \"たくさんねました\" (I slept a lot), it would be more natural to say \"たくさん寝ました\" (I slept a lot). Remember to use the verb 寝る (ねる) to indicate sleeping.\n",
      "\n",
      "2. Instead of saying \"11時に起きました\" (I woke up at 11 o'clock), it would be more natural to say \"11時に起きました\" (I woke up at 11 o'clock). Remember to use the particle で to indicate the time at which an action takes place.\n",
      "\n",
      "Keep up the good work! Just remember to pay attention to verb forms and particles to make your sentences more accurate.\n"
     ]
    }
   ],
   "source": [
    "res = critic_chain.run({\"conversation\": conversation_str})\n",
    "print(res)"
   ]
  },
  {
   "cell_type": "code",
   "execution_count": null,
   "id": "94e9ad4d-2e52-4aaa-80d7-15c8e545982d",
   "metadata": {},
   "outputs": [],
   "source": []
  }
 ],
 "metadata": {
  "kernelspec": {
   "display_name": "Python 3 (ipykernel)",
   "language": "python",
   "name": "python3"
  },
  "language_info": {
   "codemirror_mode": {
    "name": "ipython",
    "version": 3
   },
   "file_extension": ".py",
   "mimetype": "text/x-python",
   "name": "python",
   "nbconvert_exporter": "python",
   "pygments_lexer": "ipython3",
   "version": "3.10.13"
  }
 },
 "nbformat": 4,
 "nbformat_minor": 5
}
