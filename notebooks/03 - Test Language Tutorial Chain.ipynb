{
 "cells": [
  {
   "cell_type": "markdown",
   "id": "f2ceb83c-de5a-4356-8bac-c85042bc7444",
   "metadata": {},
   "source": [
    "Let's see if I've learned how to make a custom chain"
   ]
  },
  {
   "cell_type": "code",
   "execution_count": 1,
   "id": "484d474c-5354-43fd-8848-055377369199",
   "metadata": {},
   "outputs": [],
   "source": [
    "import os\n",
    "os.chdir(\"D:\\日本語の心配genAI\")\n",
    "\n",
    "from shinpai_genai.language_tutorial import LanguageTutorialChain\n",
    "from shinpai_genai.critic.utils import get_conversation_string"
   ]
  },
  {
   "cell_type": "code",
   "execution_count": 2,
   "id": "b07835dc-361c-4f58-9376-5c101074e205",
   "metadata": {},
   "outputs": [],
   "source": [
    "tutorial_chain = LanguageTutorialChain()"
   ]
  },
  {
   "cell_type": "code",
   "execution_count": 3,
   "id": "40c6263b-de98-4063-afc4-7f5c9e36fa7d",
   "metadata": {},
   "outputs": [
    {
     "name": "stdout",
     "output_type": "stream",
     "text": [
      "{'query': 'こんにちは！今から日本語の練習します。', 'response': 'こんにちは！それは素晴らしいですね！日本語の練習にはどのようなことをしたいですか？文法や単語の練習、会話の練習、それとも他の何かですか？', 'feedback': 'Great job on starting the conversation with a greeting! Your sentence structure and vocabulary are both correct. Just a small suggestion, you can make your sentence more natural by adding a particle after \"練習します\". For example, you can say \"練習しますよ\" to indicate that you are going to practice. Keep up the good work!'}\n"
     ]
    }
   ],
   "source": [
    "res = tutorial_chain({\n",
    "    \"query\": \"こんにちは！今から日本語の練習します。\"\n",
    "})\n",
    "print(res)"
   ]
  },
  {
   "cell_type": "code",
   "execution_count": 4,
   "id": "4e8450f3-e914-4c04-9758-4c124c2ef40f",
   "metadata": {},
   "outputs": [
    {
     "name": "stdout",
     "output_type": "stream",
     "text": [
      "{'query': '今日は土曜日だよ。たくさんねました。11時に起きました。', 'response': 'それはいいですね！土曜日はゆっくり寝ることができる日ですね。11時に起きたんですね。それは少し遅いですが、たくさん寝ることができたのでしょうか？今日は何をする予定ですか？', 'feedback': 'Good job on starting the conversation with a proper greeting, \"こんにちは！\" However, there are a few grammar and vocabulary mistakes in your response.\\n\\nFirst, when talking about the day of the week, it is more natural to use the particle \"は\" instead of \"だ\". So instead of saying \"今日は土曜日だよ\", it would be better to say \"今日は土曜日ですよ\".\\n\\nNext, the verb \"ねました\" is incorrect in this context. The verb \"ねる\" means \"to sleep\", but in this case, you want to say that you slept a lot. The correct verb to use here is \"寝る\" (ねる), so you should say \"たくさん寝ました\".\\n\\nLastly, when talking about the time, it is more common to use the particle \"に\" instead of \"で\". So instead of saying \"11時で起きました\", it would be better to say \"11時に起きました\".\\n\\nKeep up the good work and keep practicing!'}\n"
     ]
    }
   ],
   "source": [
    "# yess it works!\n",
    "\n",
    "res = tutorial_chain({\n",
    "    \"query\": \"今日は土曜日だよ。たくさんねました。11時に起きました。\"\n",
    "})\n",
    "print(res)"
   ]
  },
  {
   "cell_type": "code",
   "execution_count": 5,
   "id": "d6e8748f-3354-45ea-8022-a2ba90385e25",
   "metadata": {},
   "outputs": [],
   "source": [
    "conversation_string = get_conversation_string(tutorial_chain.practice_buddy_chain)"
   ]
  },
  {
   "cell_type": "code",
   "execution_count": 6,
   "id": "56dc5ed8-cbef-4feb-8851-0a3abf8d8d18",
   "metadata": {},
   "outputs": [
    {
     "name": "stdout",
     "output_type": "stream",
     "text": [
      "STUDENT: こんにちは！今から日本語の練習します。\n",
      "PRACTICE BUDDY: こんにちは！それは素晴らしいですね！日本語の練習にはどのようなことをしたいですか？文法や単語の練習、会話の練習、それとも他の何かですか？\n",
      "STUDENT: 今日は土曜日だよ。たくさんねました。11時に起きました。\n",
      "\n"
     ]
    }
   ],
   "source": [
    "print(conversation_string)"
   ]
  }
 ],
 "metadata": {
  "kernelspec": {
   "display_name": "Python 3 (ipykernel)",
   "language": "python",
   "name": "python3"
  },
  "language_info": {
   "codemirror_mode": {
    "name": "ipython",
    "version": 3
   },
   "file_extension": ".py",
   "mimetype": "text/x-python",
   "name": "python",
   "nbconvert_exporter": "python",
   "pygments_lexer": "ipython3",
   "version": "3.11.5"
  }
 },
 "nbformat": 4,
 "nbformat_minor": 5
}
