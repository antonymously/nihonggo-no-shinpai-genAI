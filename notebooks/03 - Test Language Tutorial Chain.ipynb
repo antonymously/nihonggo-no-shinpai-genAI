{
 "cells": [
  {
   "cell_type": "markdown",
   "id": "f2ceb83c-de5a-4356-8bac-c85042bc7444",
   "metadata": {},
   "source": [
    "Let's see if I've learned how to make a custom chain"
   ]
  },
  {
   "cell_type": "code",
   "execution_count": 1,
   "id": "484d474c-5354-43fd-8848-055377369199",
   "metadata": {},
   "outputs": [],
   "source": [
    "import os\n",
    "os.chdir(\"D:\\日本語の心配genAI\")\n",
    "\n",
    "from shinpai_genai.language_tutorial import LanguageTutorialChain\n",
    "from shinpai_genai.critic.utils import get_conversation_string"
   ]
  },
  {
   "cell_type": "code",
   "execution_count": 2,
   "id": "b07835dc-361c-4f58-9376-5c101074e205",
   "metadata": {},
   "outputs": [],
   "source": [
    "tutorial_chain = LanguageTutorialChain()"
   ]
  },
  {
   "cell_type": "code",
   "execution_count": 3,
   "id": "40c6263b-de98-4063-afc4-7f5c9e36fa7d",
   "metadata": {},
   "outputs": [
    {
     "name": "stdout",
     "output_type": "stream",
     "text": [
      "{'query': 'こんにちは！今から日本語の練習します。', 'response': 'こんにちは！日本語の練習をするのですね。どんなことを練習したいですか？話す練習ですか、書く練習ですか？それとも他のことですか？', 'feedback': 'Great start! Your greeting \"こんにちは\" is perfect. Just a small correction, the particle \"から\" is used to indicate the starting point of an action, so in this case, it would be more natural to say \"今から日本語の練習を始めます\" (I will start practicing Japanese from now). Keep up the good work!'}\n"
     ]
    }
   ],
   "source": [
    "res = tutorial_chain({\n",
    "    \"query\": \"こんにちは！今から日本語の練習します。\"\n",
    "})\n",
    "print(res)"
   ]
  },
  {
   "cell_type": "code",
   "execution_count": 4,
   "id": "4e8450f3-e914-4c04-9758-4c124c2ef40f",
   "metadata": {},
   "outputs": [
    {
     "name": "stdout",
     "output_type": "stream",
     "text": [
      "{'query': '今日は土曜日だよ。たくさんねました。11時に起きました。', 'response': 'そうなんですね。土曜日はゆっくり休む日ですね。11時に起きたんですね。何をしましたか？友達と遊んだり、家でゆっくり過ごしたりしましたか？', 'feedback': 'Good effort on your conversation! Just a few points to note:\\n\\n1. When talking about the day of the week, you can use \"今日は土曜日です\" to mean \"Today is Saturday.\" Also, to express that you slept a lot, you can say \"たくさん寝ました\" instead of \"たくさんねました.\"\\n\\n2. When talking about waking up at a specific time, you can use the particle に to indicate the time. So it would be \"11時に起きました.\"\\n\\nKeep up the good work!'}\n"
     ]
    }
   ],
   "source": [
    "# yess it works!\n",
    "\n",
    "res = tutorial_chain({\n",
    "    \"query\": \"今日は土曜日だよ。たくさんねました。11時に起きました。\"\n",
    "})\n",
    "print(res)"
   ]
  },
  {
   "cell_type": "code",
   "execution_count": null,
   "id": "d6e8748f-3354-45ea-8022-a2ba90385e25",
   "metadata": {},
   "outputs": [],
   "source": [
    "conversation_string = get_conversation_string(tutorial_chain.practice_buddy_chain)"
   ]
  },
  {
   "cell_type": "code",
   "execution_count": null,
   "id": "56dc5ed8-cbef-4feb-8851-0a3abf8d8d18",
   "metadata": {},
   "outputs": [],
   "source": [
    "print(conversation_string)"
   ]
  }
 ],
 "metadata": {
  "kernelspec": {
   "display_name": "Python 3 (ipykernel)",
   "language": "python",
   "name": "python3"
  },
  "language_info": {
   "codemirror_mode": {
    "name": "ipython",
    "version": 3
   },
   "file_extension": ".py",
   "mimetype": "text/x-python",
   "name": "python",
   "nbconvert_exporter": "python",
   "pygments_lexer": "ipython3",
   "version": "3.10.13"
  }
 },
 "nbformat": 4,
 "nbformat_minor": 5
}
